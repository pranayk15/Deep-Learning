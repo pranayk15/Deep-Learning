{
 "cells": [
  {
   "cell_type": "code",
   "execution_count": 3,
   "id": "ab6b4cc9",
   "metadata": {},
   "outputs": [],
   "source": [
    "import numpy as np\n",
    "y_pred=np.array([1,1,0,0,1])\n",
    "y_truth=np.array([0.3,0.7,1,0,0.5])"
   ]
  },
  {
   "cell_type": "code",
   "execution_count": 5,
   "id": "2d7581fd",
   "metadata": {},
   "outputs": [
    {
     "name": "stdout",
     "output_type": "stream",
     "text": [
      "[1 1 0 0 1]\n"
     ]
    }
   ],
   "source": [
    "print(y_pred)"
   ]
  },
  {
   "cell_type": "code",
   "execution_count": 10,
   "id": "70b3e235",
   "metadata": {},
   "outputs": [],
   "source": [
    "def mae(y_pred,y_truth):\n",
    "    total=0\n",
    "    for i,j in zip(y_pred,y_truth):\n",
    "        total+=abs(j-i)\n",
    "    print(\"Error is: \",total)\n",
    "    l=total/len(y_truth)\n",
    "    print(\"MAE is: \",l)\n",
    "    return l"
   ]
  },
  {
   "cell_type": "code",
   "execution_count": 12,
   "id": "dcaead2d",
   "metadata": {},
   "outputs": [
    {
     "name": "stdout",
     "output_type": "stream",
     "text": [
      "Error is:  2.5\n",
      "MAE is:  0.5\n"
     ]
    },
    {
     "data": {
      "text/plain": [
       "0.5"
      ]
     },
     "execution_count": 12,
     "metadata": {},
     "output_type": "execute_result"
    }
   ],
   "source": [
    "mae(y_pred,y_truth)"
   ]
  },
  {
   "cell_type": "code",
   "execution_count": 15,
   "id": "83c60e08",
   "metadata": {},
   "outputs": [
    {
     "data": {
      "text/plain": [
       "0.5"
      ]
     },
     "execution_count": 15,
     "metadata": {},
     "output_type": "execute_result"
    }
   ],
   "source": [
    "np.mean(np.abs(y_pred-y_truth))"
   ]
  },
  {
   "cell_type": "code",
   "execution_count": 17,
   "id": "5f56142c",
   "metadata": {},
   "outputs": [
    {
     "data": {
      "text/plain": [
       "array([-25.32843602])"
      ]
     },
     "execution_count": 17,
     "metadata": {},
     "output_type": "execute_result"
    }
   ],
   "source": [
    "np.log([0.00000000001])"
   ]
  },
  {
   "cell_type": "code",
   "execution_count": 19,
   "id": "76c75c4c",
   "metadata": {},
   "outputs": [],
   "source": [
    "epsilon=1e-15"
   ]
  },
  {
   "cell_type": "code",
   "execution_count": 22,
   "id": "a9d6e49c",
   "metadata": {},
   "outputs": [
    {
     "data": {
      "text/plain": [
       "[1, 1, 1e-15, 1e-15, 1]"
      ]
     },
     "execution_count": 22,
     "metadata": {},
     "output_type": "execute_result"
    }
   ],
   "source": [
    "new=[max(i,epsilon) for i in y_pred]        #replaces the lower values by epsilon\n",
    "new         "
   ]
  },
  {
   "cell_type": "code",
   "execution_count": 25,
   "id": "4629c624",
   "metadata": {},
   "outputs": [
    {
     "data": {
      "text/plain": [
       "[0.999999999999999, 0.999999999999999, 0, 0, 0.999999999999999]"
      ]
     },
     "execution_count": 25,
     "metadata": {},
     "output_type": "execute_result"
    }
   ],
   "source": [
    "new1=[min(i,1-epsilon) for i in y_pred]    #replaces the higher values by 1-epsilon\n",
    "new1"
   ]
  },
  {
   "cell_type": "code",
   "execution_count": 27,
   "id": "675113e2",
   "metadata": {},
   "outputs": [
    {
     "ename": "TypeError",
     "evalue": "unsupported operand type(s) for -: 'int' and 'list'",
     "output_type": "error",
     "traceback": [
      "\u001b[1;31m---------------------------------------------------------------------------\u001b[0m",
      "\u001b[1;31mTypeError\u001b[0m                                 Traceback (most recent call last)",
      "Cell \u001b[1;32mIn[27], line 1\u001b[0m\n\u001b[1;32m----> 1\u001b[0m \u001b[38;5;241m-\u001b[39mnp\u001b[38;5;241m.\u001b[39mmean(y_truth\u001b[38;5;241m*\u001b[39mnp\u001b[38;5;241m.\u001b[39mlog(new)\u001b[38;5;241m+\u001b[39m(\u001b[38;5;241m1\u001b[39m\u001b[38;5;241m-\u001b[39my_truth)\u001b[38;5;241m*\u001b[39mnp\u001b[38;5;241m.\u001b[39mlog(\u001b[38;5;241m1\u001b[39m\u001b[38;5;241m-\u001b[39mnew))\n",
      "\u001b[1;31mTypeError\u001b[0m: unsupported operand type(s) for -: 'int' and 'list'"
     ]
    }
   ],
   "source": [
    "-np.mean(y_truth*np.log(new)+(1-y_truth)*np.log(1-new))"
   ]
  },
  {
   "cell_type": "code",
   "execution_count": null,
   "id": "556b2c86",
   "metadata": {},
   "outputs": [],
   "source": [
    "#BELOW PROGRAM IS THE PROGRAM FOR THE MEAN SQUARE ERROR BY NORMAL PYTHON PROCESS AND NUMPY PROCESS"
   ]
  },
  {
   "cell_type": "code",
   "execution_count": 32,
   "id": "226a59c1",
   "metadata": {},
   "outputs": [],
   "source": [
    "def mse(y_pred,y_truth):\n",
    "    total=0\n",
    "    for i,j in zip(y_pred,y_truth):\n",
    "        n=abs(j-i)*abs(j-i)\n",
    "        total+=n\n",
    "    print(\"MSE IS: \",total)\n",
    "    t=total/len(y_truth)\n",
    "    print(\"MSE IS: \",t)"
   ]
  },
  {
   "cell_type": "code",
   "execution_count": 34,
   "id": "6bb54250",
   "metadata": {},
   "outputs": [
    {
     "name": "stdout",
     "output_type": "stream",
     "text": [
      "MSE IS:  1.83\n",
      "MSE IS:  0.366\n"
     ]
    }
   ],
   "source": [
    "mse(y_pred,y_truth)"
   ]
  },
  {
   "cell_type": "code",
   "execution_count": 36,
   "id": "3aa084b4",
   "metadata": {},
   "outputs": [
    {
     "data": {
      "text/plain": [
       "0.366"
      ]
     },
     "execution_count": 36,
     "metadata": {},
     "output_type": "execute_result"
    }
   ],
   "source": [
    "p=np.abs(y_pred-y_truth)*np.abs(y_pred-y_truth)\n",
    "np.mean(p)"
   ]
  }
 ],
 "metadata": {
  "kernelspec": {
   "display_name": "Python 3 (ipykernel)",
   "language": "python",
   "name": "python3"
  },
  "language_info": {
   "codemirror_mode": {
    "name": "ipython",
    "version": 3
   },
   "file_extension": ".py",
   "mimetype": "text/x-python",
   "name": "python",
   "nbconvert_exporter": "python",
   "pygments_lexer": "ipython3",
   "version": "3.11.4"
  }
 },
 "nbformat": 4,
 "nbformat_minor": 5
}
